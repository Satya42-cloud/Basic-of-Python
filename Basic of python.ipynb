{
 "cells": [
  {
   "cell_type": "markdown",
   "id": "52b358f8-e6ca-46f8-809f-b75ec8c6e09e",
   "metadata": {},
   "source": [
    "# Exercise 1: Prime Numbers"
   ]
  },
  {
   "cell_type": "code",
   "execution_count": 1,
   "id": "3ec3be34-2749-4213-9e85-31f2a82640de",
   "metadata": {},
   "outputs": [
    {
     "name": "stdin",
     "output_type": "stream",
     "text": [
      "Give a number: 7\n"
     ]
    },
    {
     "name": "stdout",
     "output_type": "stream",
     "text": [
      "7 is a prime number\n"
     ]
    }
   ],
   "source": [
    "num = int(input(\"Give a number:\"))\n",
    "# If given number is greater than 1\n",
    "if num > 1:\n",
    "    # Iterate from 2 to n // 2\n",
    "    for i in range(2, (num//2)+1):\n",
    "        # If num is divisible by any number between\n",
    "        # 2 and n / 2, it is not prime\n",
    "        if (num % i) == 0:\n",
    "            print(num, \"is not a prime number\")\n",
    "            break\n",
    "    else:\n",
    "        print(num, \"is a prime number\")\n",
    "else:\n",
    "    print(num, \"is not a prime number\")"
   ]
  },
  {
   "cell_type": "markdown",
   "id": "6d8763a5-4880-4ab7-ad02-0b577ec77063",
   "metadata": {},
   "source": [
    "# Exercise 2: Product of random numbers"
   ]
  },
  {
   "cell_type": "code",
   "execution_count": 3,
   "id": "76b1f2d3-42ae-40c1-814d-0a2e9724c4f7",
   "metadata": {},
   "outputs": [
    {
     "name": "stdin",
     "output_type": "stream",
     "text": [
      "What is the product of 54 and 48?  2592\n"
     ]
    },
    {
     "name": "stdout",
     "output_type": "stream",
     "text": [
      "Correct! Well done.\n"
     ]
    }
   ],
   "source": [
    "import random\n",
    "# Generate two random numbers\n",
    "num1 = random.randint(1,100)\n",
    "num2 = random.randint(1,100)\n",
    "# Calculate the product of the two numbers\n",
    "product = num1 * num2\n",
    "# Ask the user to enter the product of the numbers\n",
    "answer = int(input(f\"What is the product of {num1} and {num2}? \"))\n",
    "# Check if the user's answer is correct\n",
    "if answer == product:\n",
    "   print(\"Correct! Well done.\")\n",
    "else:\n",
    "   print(f\"Sorry, the correct answer is {product}. Try again next time.\")    "
   ]
  },
  {
   "cell_type": "markdown",
   "id": "1ecd77e5-9b3d-4905-853f-491ad28c321a",
   "metadata": {},
   "source": [
    "# Exercise 3: Squares of even number "
   ]
  },
  {
   "cell_type": "code",
   "execution_count": 5,
   "id": "b26ea955-a74a-4ac1-8a2e-465e5875b186",
   "metadata": {},
   "outputs": [
    {
     "name": "stdout",
     "output_type": "stream",
     "text": [
      "The square of 100 is: 10000\n",
      "The square of 102 is: 10404\n",
      "The square of 104 is: 10816\n",
      "The square of 106 is: 11236\n",
      "The square of 108 is: 11664\n",
      "The square of 110 is: 12100\n",
      "The square of 112 is: 12544\n",
      "The square of 114 is: 12996\n",
      "The square of 116 is: 13456\n",
      "The square of 118 is: 13924\n",
      "The square of 120 is: 14400\n",
      "The square of 122 is: 14884\n",
      "The square of 124 is: 15376\n",
      "The square of 126 is: 15876\n",
      "The square of 128 is: 16384\n",
      "The square of 130 is: 16900\n",
      "The square of 132 is: 17424\n",
      "The square of 134 is: 17956\n",
      "The square of 136 is: 18496\n",
      "The square of 138 is: 19044\n",
      "The square of 140 is: 19600\n",
      "The square of 142 is: 20164\n",
      "The square of 144 is: 20736\n",
      "The square of 146 is: 21316\n",
      "The square of 148 is: 21904\n",
      "The square of 150 is: 22500\n",
      "The square of 152 is: 23104\n",
      "The square of 154 is: 23716\n",
      "The square of 156 is: 24336\n",
      "The square of 158 is: 24964\n",
      "The square of 160 is: 25600\n",
      "The square of 162 is: 26244\n",
      "The square of 164 is: 26896\n",
      "The square of 166 is: 27556\n",
      "The square of 168 is: 28224\n",
      "The square of 170 is: 28900\n",
      "The square of 172 is: 29584\n",
      "The square of 174 is: 30276\n",
      "The square of 176 is: 30976\n",
      "The square of 178 is: 31684\n",
      "The square of 180 is: 32400\n",
      "The square of 182 is: 33124\n",
      "The square of 184 is: 33856\n",
      "The square of 186 is: 34596\n",
      "The square of 188 is: 35344\n",
      "The square of 190 is: 36100\n",
      "The square of 192 is: 36864\n",
      "The square of 194 is: 37636\n",
      "The square of 196 is: 38416\n",
      "The square of 198 is: 39204\n",
      "The square of 200 is: 40000\n"
     ]
    }
   ],
   "source": [
    "# Function to calculate the square of even numbers and cube of odd numbers between 100 to 200 \n",
    "def calculate_numbers(): \n",
    "    for i in range(100, 201): \n",
    "        if i % 2 == 0: \n",
    "            square = i ** 2 \n",
    "            print(f\"The square of {i} is: {square}\") \n",
    " \n",
    "# Call the function to calculate the numbers \n",
    "calculate_numbers() "
   ]
  },
  {
   "cell_type": "markdown",
   "id": "63a358e4-dd6c-4d84-8c28-b6d7b96d9764",
   "metadata": {},
   "source": [
    "# Exercise 4: Word counter"
   ]
  },
  {
   "cell_type": "code",
   "execution_count": 7,
   "id": "980cbd65-c4d8-4261-be8d-e17a8fc60dc7",
   "metadata": {},
   "outputs": [
    {
     "name": "stdout",
     "output_type": "stream",
     "text": [
      "Number of words: 5\n"
     ]
    }
   ],
   "source": [
    "def count_words(sentence):\n",
    "    # Initialize count to 1 assuming at least one word is present\n",
    "    count = 1\n",
    " \n",
    "    for char in sentence:\n",
    "        if char == ' ':\n",
    "            count += 1\n",
    " \n",
    "    return count\n",
    " \n",
    "# Example usage\n",
    "sentence = \"My name is Satyajit Swain\"\n",
    "print(\"Number of words:\", count_words(sentence))"
   ]
  },
  {
   "cell_type": "markdown",
   "id": "b5cc85ec-3889-47da-a9cc-248e701c2473",
   "metadata": {},
   "source": [
    "# Exercise 5: Check for palindrome"
   ]
  },
  {
   "cell_type": "code",
   "execution_count": 9,
   "id": "7eab2335-74ed-4e39-aea0-2d607c700e93",
   "metadata": {},
   "outputs": [
    {
     "name": "stdin",
     "output_type": "stream",
     "text": [
      "Enter any string: pop\n"
     ]
    },
    {
     "name": "stdout",
     "output_type": "stream",
     "text": [
      "String is a palindrome\n"
     ]
    }
   ],
   "source": [
    "# function to check palindrome\n",
    "\n",
    "def isPalindrome(s):\n",
    "    return s == s[::-1]\n",
    "\n",
    "\n",
    "String = str(input(\"Enter any string:\"))\n",
    "ans = isPalindrome(String)\n",
    "\n",
    "if ans:\n",
    "    print(\"String is a palindrome\")\n",
    "else:\n",
    "    print(\"String is not a palindrome\")"
   ]
  }
 ],
 "metadata": {
  "kernelspec": {
   "display_name": "Python 3 (ipykernel)",
   "language": "python",
   "name": "python3"
  },
  "language_info": {
   "codemirror_mode": {
    "name": "ipython",
    "version": 3
   },
   "file_extension": ".py",
   "mimetype": "text/x-python",
   "name": "python",
   "nbconvert_exporter": "python",
   "pygments_lexer": "ipython3",
   "version": "3.12.4"
  }
 },
 "nbformat": 4,
 "nbformat_minor": 5
}
